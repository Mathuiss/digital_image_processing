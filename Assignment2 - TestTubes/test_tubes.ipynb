{
 "cells": [
  {
   "cell_type": "code",
   "execution_count": null,
   "metadata": {},
   "outputs": [],
   "source": [
    "import cv2\n",
    "import numpy as np\n",
    "import os\n",
    "import sys\n",
    "import matplotlib.pyplot as plt"
   ]
  },
  {
   "cell_type": "code",
   "execution_count": null,
   "metadata": {},
   "outputs": [],
   "source": [
    "def find_edges(img_src):\n",
    "    grey_scale_8 = cv2.imread(img_src, cv2.IMREAD_REDUCED_GRAYSCALE_8)\n",
    "    edges = cv2.Canny(grey_scale_8, 60, 130)\n",
    "    \n",
    "    # plt.imshow(edges, cmap=\"gray\")\n",
    "    # plt.show()\n",
    "\n",
    "    y_last = sys.maxsize\n",
    "    x_last = sys.maxsize\n",
    "    y_max_gap = 50\n",
    "    x_max_gap = 50\n",
    "\n",
    "    lower = sys.maxsize\n",
    "    upper = 0\n",
    "    left = sys.maxsize\n",
    "    right = 0\n",
    "\n",
    "    y = 0\n",
    "    x = 0\n",
    "    \n",
    "    for row in edges:\n",
    "        for pix in row:\n",
    "            # Found edge\n",
    "            if pix == 255:\n",
    "                # If a pixel is found we check if the current x and y are closer to the last x and y than the max_gap aLLows for\n",
    "                # If that is the case we set the new found upper, lower, left and right boundaries\n",
    "                # If the pixel is further away than the max gap, we break the loop and skip to the next pixel without updating the last, thus enforcing\n",
    "                    # the break in the next iteration of the loop\n",
    "\n",
    "                # Check if y gap exceeding theshold has been reached\n",
    "                if y - y_last > y_max_gap:\n",
    "                    break\n",
    "                else:\n",
    "                    y_last = y\n",
    "\n",
    "                # Check if x gap exceeding theshold has been reached\n",
    "                if x - x_last > x_max_gap:\n",
    "                    break\n",
    "                else:\n",
    "                    x_last = x\n",
    "\n",
    "                 # Check boundaries\n",
    "                if upper < y:\n",
    "                    upper = y\n",
    "                \n",
    "                if right < x:\n",
    "                    right = x\n",
    "\n",
    "                if lower > y:\n",
    "                    lower = y\n",
    "                \n",
    "                if left > x:\n",
    "                    left = x\n",
    "\n",
    "            x += 1\n",
    "\n",
    "        y += 1\n",
    "        x = 0\n",
    "\n",
    "    return {\"Upper\": upper, \"Lower\": lower, \"Left\": left, \"Right\": right}\n",
    "#     print(f\"Lower: {lower}\")\n",
    "#     print(f\"Upper: {upper}\")\n",
    "#     print(f\"Left: {left}\")\n",
    "#     print(f\"Right: {right}\")\n",
    "\n",
    "# find_edges(\"E.jpg\")"
   ]
  },
  {
   "cell_type": "code",
   "execution_count": null,
   "metadata": {},
   "outputs": [],
   "source": [
    "def crop_image(img_src, boundaries):\n",
    "    img_gray = cv2.imread(img_src, cv2.IMREAD_REDUCED_GRAYSCALE_8)\n",
    "    return img_gray[boundaries[\"Lower\"]:boundaries[\"Upper\"] + 1, boundaries[\"Left\"]:boundaries[\"Right\"] + 1]"
   ]
  },
  {
   "cell_type": "code",
   "execution_count": null,
   "metadata": {
    "tags": [
     "outputPrepend",
     "outputPrepend",
     "outputPrepend",
     "outputPrepend",
     "outputPrepend",
     "outputPrepend",
     "outputPrepend",
     "outputPrepend",
     "outputPrepend",
     "outputPrepend",
     "outputPrepend",
     "outputPrepend",
     "outputPrepend",
     "outputPrepend",
     "outputPrepend"
    ]
   },
   "outputs": [],
   "source": [
    "for i in range(1, 3):\n",
    "    for img_src in os.listdir(f\"Test Tubes-{i}\"):\n",
    "        # Check if image (can be expanded upon)\n",
    "        if img_src.endswith(\".jpg\"):\n",
    "            boundaries = find_edges(f\"Test Tubes-{i}/{img_src}\")\n",
    "            print(boundaries)\n",
    "            img_cropped = crop_image(f\"Test Tubes-{i}/{img_src}\", boundaries)\n",
    "            print(f\"Writing test tube: Test Tubes-{i}/{img_src}\")\n",
    "            cv2.imwrite(f\"output-{i}/{img_src}\", img_cropped)\n",
    "\n",
    "print(\"Done\")\n"
   ]
  },
  {
   "cell_type": "code",
   "execution_count": null,
   "metadata": {},
   "outputs": [],
   "source": []
  }
 ],
 "metadata": {
  "language_info": {
   "codemirror_mode": {
    "name": "ipython",
    "version": 3
   },
   "file_extension": ".py",
   "mimetype": "text/x-python",
   "name": "python",
   "nbconvert_exporter": "python",
   "pygments_lexer": "ipython3",
   "version": "3.7.5-final"
  },
  "orig_nbformat": 2,
  "kernelspec": {
   "name": "python37564bit8153ed8c25bd45b7b4519484779c0773",
   "display_name": "Python 3.7.5 64-bit"
  }
 },
 "nbformat": 4,
 "nbformat_minor": 2
}