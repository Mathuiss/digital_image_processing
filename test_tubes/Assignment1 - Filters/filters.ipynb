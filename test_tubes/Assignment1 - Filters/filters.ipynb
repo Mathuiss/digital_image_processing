{
 "cells": [
  {
   "cell_type": "code",
   "execution_count": 54,
   "metadata": {},
   "outputs": [],
   "source": [
    "# imports\n",
    "import cv2\n",
    "from skimage.util import random_noise\n",
    "import matplotlib.pyplot as plt"
   ]
  },
  {
   "cell_type": "code",
   "execution_count": 55,
   "metadata": {},
   "outputs": [],
   "source": [
    "def salt_pepper(img_name, intensity):\n",
    "    print(f\"Attempting to salt_pepper: {img_name}\")\n",
    "    img_original = cv2.imread(img_name)\n",
    "    img_salt_pepper = random_noise(img_original, mode=\"s&p\", amount=intensity) * 255 # * 255 Because function returns floating point format?!\n",
    "    cv2.imwrite(f\"salt-pepper/{img_name}\", img_salt_pepper)\n",
    "    print(f\"Salt-pepper done: {img_name}\")"
   ]
  },
  {
   "cell_type": "code",
   "execution_count": 56,
   "metadata": {},
   "outputs": [],
   "source": [
    "def gaussian(img_name):\n",
    "    print(f\"Attempting to gaussian: {img_name}\")\n",
    "    img_original = cv2.imread(img_name)\n",
    "    img_gaussian = random_noise(img_original, mode=\"gaussian\") * 255\n",
    "    cv2.imwrite(f\"gaussian/{img_name}\", img_gaussian)\n",
    "    print(f\"Gaussian done: {img_name}\")"
   ]
  },
  {
   "cell_type": "code",
   "execution_count": 57,
   "metadata": {},
   "outputs": [],
   "source": [
    "def poisson(img_name):\n",
    "    print(f\"Attempting to poisson: {img_name}\")\n",
    "    img_original = cv2.imread(img_name)\n",
    "    img_poisson = random_noise(img_original, mode=\"poisson\") * 255\n",
    "    cv2.imwrite(f\"poisson/{img_name}\", img_poisson)\n",
    "    print(f\"Poisson done: {img_name}\")"
   ]
  },
  {
   "cell_type": "code",
   "execution_count": 58,
   "metadata": {},
   "outputs": [],
   "source": [
    "def speckle(img_name):\n",
    "    print(f\"Attempting to speckle: {img_name}\")\n",
    "    img_original = cv2.imread(img_name)\n",
    "    img_speckle = random_noise(img_original, mode=\"speckle\") * 255\n",
    "    cv2.imwrite(f\"speckle/{img_name}\", img_speckle)\n",
    "    print(f\"Speckle done: {img_name}\")"
   ]
  },
  {
   "cell_type": "code",
   "execution_count": 59,
   "metadata": {},
   "outputs": [
    {
     "output_type": "stream",
     "name": "stdout",
     "text": "Attempting to salt_pepper: rocket1.jpeg\nSalt-pepper done: rocket1.jpeg\nAttempting to gaussian: rocket1.jpeg\nGaussian done: rocket1.jpeg\nAttempting to poisson: rocket1.jpeg\nPoisson done: rocket1.jpeg\nAttempting to speckle: rocket1.jpeg\nSpeckle done: rocket1.jpeg\nAttempting to salt_pepper: rocket2.jpeg\nSalt-pepper done: rocket2.jpeg\nAttempting to gaussian: rocket2.jpeg\nGaussian done: rocket2.jpeg\nAttempting to poisson: rocket2.jpeg\nPoisson done: rocket2.jpeg\nAttempting to speckle: rocket2.jpeg\nSpeckle done: rocket2.jpeg\nAttempting to salt_pepper: rocket3.jpeg\nSalt-pepper done: rocket3.jpeg\nAttempting to gaussian: rocket3.jpeg\nGaussian done: rocket3.jpeg\nAttempting to poisson: rocket3.jpeg\nPoisson done: rocket3.jpeg\nAttempting to speckle: rocket3.jpeg\nSpeckle done: rocket3.jpeg\nAttempting to salt_pepper: rocket4.jpeg\nSalt-pepper done: rocket4.jpeg\nAttempting to gaussian: rocket4.jpeg\nGaussian done: rocket4.jpeg\nAttempting to poisson: rocket4.jpeg\nPoisson done: rocket4.jpeg\nAttempting to speckle: rocket4.jpeg\nSpeckle done: rocket4.jpeg\n"
    }
   ],
   "source": [
    "for i in range(1, 5):\n",
    "    img_name = f\"rocket{i}.jpeg\"\n",
    "    salt_pepper(img_name, 0.08)\n",
    "    gaussian(img_name)\n",
    "    poisson(img_name)\n",
    "    speckle(img_name)"
   ]
  }
 ],
 "metadata": {
  "language_info": {
   "codemirror_mode": {
    "name": "ipython",
    "version": 3
   },
   "file_extension": ".py",
   "mimetype": "text/x-python",
   "name": "python",
   "nbconvert_exporter": "python",
   "pygments_lexer": "ipython3",
   "version": "3.7.5-final"
  },
  "orig_nbformat": 2,
  "kernelspec": {
   "name": "python37564bit8153ed8c25bd45b7b4519484779c0773",
   "display_name": "Python 3.7.5 64-bit"
  }
 },
 "nbformat": 4,
 "nbformat_minor": 2
}