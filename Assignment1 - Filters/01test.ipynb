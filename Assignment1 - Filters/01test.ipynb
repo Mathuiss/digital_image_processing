{
 "cells": [
  {
   "cell_type": "code",
   "execution_count": 42,
   "metadata": {},
   "outputs": [],
   "source": [
    "import cv2\n",
    "import numpy as np\n",
    "import random\n",
    "import math"
   ]
  },
  {
   "cell_type": "code",
   "execution_count": 43,
   "metadata": {},
   "outputs": [],
   "source": [
    "def salt_pepper(image, propability):\n",
    "    output = np.zeros(image.shape, np.uint8)\n",
    "    threshold = 1 - propability\n",
    "    for i in range(0, image.shape[0]):\n",
    "        for j in range(0, image.shape[1]):\n",
    "            rand = random.random()\n",
    "            if rand < propability:\n",
    "                output[i][j] = 0\n",
    "            elif rand > threshold:\n",
    "                output[i][j] = 255\n",
    "            else:\n",
    "                output[i][j] = image[i][j]\n",
    "    return output"
   ]
  },
  {
   "cell_type": "code",
   "execution_count": 44,
   "metadata": {},
   "outputs": [
    {
     "output_type": "stream",
     "name": "stdout",
     "text": "rocket1.jpeg\nrocket2.jpeg\nrocket3.jpeg\ndone\n"
    }
   ],
   "source": [
    "for i in range(1, 4):\n",
    "    rocket_name = f\"rocket{i}.jpeg\"\n",
    "    print(rocket_name)\n",
    "    image = cv2.imread(rocket_name)\n",
    "    noise_image = salt_pepper(image, 0.05)\n",
    "    cv2.imwrite(f\"salt-pepper/{rocket_name}\", noise_image)\n",
    "\n",
    "print(\"done\")"
   ]
  },
  {
   "cell_type": "code",
   "execution_count": 48,
   "metadata": {},
   "outputs": [],
   "source": [
    "def poisson(src, dest):\n",
    "    src = cv2.imread(src)\n",
    "    dest = cv2.imread(dest)\n",
    "\n",
    "    src_mask = np.zeros(src.shape, src.dtype)\n",
    "    center = (math.floor(len(dest[0]) / 2), math.floor(len(dest) / 2))\n",
    "    print(center)\n",
    "    return cv2.seamlessClone(src, dest, src_mask, center, cv2.NORMAL_CLONE)"
   ]
  },
  {
   "cell_type": "code",
   "execution_count": 49,
   "metadata": {},
   "outputs": [
    {
     "output_type": "stream",
     "name": "stdout",
     "text": "poisson/rocket1.jpeg+rocket4.jpeg\n(546, 750)\npoisson/rocket2.jpeg+rocket3.jpeg\n(1166, 750)\npoisson/rocket3.jpeg+rocket2.jpeg\n(459, 750)\npoisson/rocket4.jpeg+rocket1.jpeg\n(748, 1125)\ndone\n"
    }
   ],
   "source": [
    "for i in range(1, 5):\n",
    "    target_a = f\"rocket{i}.jpeg\"\n",
    "    target_b = f\"rocket{5 - i}.jpeg\"\n",
    "    output_location = f\"poisson/{target_a}+{target_b}\"\n",
    "    print(output_location)\n",
    "    cv2.imwrite(output_location, poisson(target_a, target_b))\n",
    "\n",
    "print(\"done\")"
   ]
  },
  {
   "cell_type": "code",
   "execution_count": null,
   "metadata": {},
   "outputs": [],
   "source": []
  }
 ],
 "metadata": {
  "language_info": {
   "codemirror_mode": {
    "name": "ipython",
    "version": 3
   },
   "file_extension": ".py",
   "mimetype": "text/x-python",
   "name": "python",
   "nbconvert_exporter": "python",
   "pygments_lexer": "ipython3",
   "version": "3.7.5-final"
  },
  "orig_nbformat": 2,
  "kernelspec": {
   "name": "python37564bit8153ed8c25bd45b7b4519484779c0773",
   "display_name": "Python 3.7.5 64-bit"
  }
 },
 "nbformat": 4,
 "nbformat_minor": 2
}